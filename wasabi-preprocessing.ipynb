{
 "cells": [
  {
   "cell_type": "code",
   "execution_count": 1,
   "metadata": {},
   "outputs": [],
   "source": [
    "import pandas as pd\n",
    "import numpy as np\n",
    "import json\n",
    "import matplotlib.pyplot as plt"
   ]
  },
  {
   "cell_type": "code",
   "execution_count": 2,
   "metadata": {},
   "outputs": [
    {
     "name": "stderr",
     "output_type": "stream",
     "text": [
      "/Users/jet/anaconda3/lib/python3.8/site-packages/IPython/core/interactiveshell.py:3071: DtypeWarning: Columns (3,41) have mixed types.Specify dtype option on import or set low_memory=False.\n",
      "  has_raised = await self.run_ast_nodes(code_ast.body, cell_name,\n"
     ]
    }
   ],
   "source": [
    "# Importing the dataset\n",
    "my_data = pd.read_csv(\"wasabi_artists.csv\")"
   ]
  },
  {
   "cell_type": "code",
   "execution_count": 3,
   "metadata": {},
   "outputs": [
    {
     "data": {
      "text/html": [
       "<div>\n",
       "<style scoped>\n",
       "    .dataframe tbody tr th:only-of-type {\n",
       "        vertical-align: middle;\n",
       "    }\n",
       "\n",
       "    .dataframe tbody tr th {\n",
       "        vertical-align: top;\n",
       "    }\n",
       "\n",
       "    .dataframe thead th {\n",
       "        text-align: right;\n",
       "    }\n",
       "</style>\n",
       "<table border=\"1\" class=\"dataframe\">\n",
       "  <thead>\n",
       "    <tr style=\"text-align: right;\">\n",
       "      <th></th>\n",
       "      <th>_id</th>\n",
       "      <th>disambiguation</th>\n",
       "      <th>endArea</th>\n",
       "      <th>endArea.disambiguation</th>\n",
       "      <th>endArea.id</th>\n",
       "      <th>endArea.name</th>\n",
       "      <th>gender</th>\n",
       "      <th>genres</th>\n",
       "      <th>id_artist_musicbrainz</th>\n",
       "      <th>labels</th>\n",
       "      <th>...</th>\n",
       "      <th>members.XX.urlYouTube</th>\n",
       "      <th>members.XX.urlBBC</th>\n",
       "      <th>members.XX.urlSecondHandSongs</th>\n",
       "      <th>urlInstagram</th>\n",
       "      <th>members.XX.urlSoundCloud</th>\n",
       "      <th>members.XX.urlInstagram</th>\n",
       "      <th>urlGooglePlus</th>\n",
       "      <th>members.XX.urlPureVolume</th>\n",
       "      <th>members.XX.urlGooglePlus</th>\n",
       "      <th>animux_path_ambiguous</th>\n",
       "    </tr>\n",
       "  </thead>\n",
       "  <tbody>\n",
       "    <tr>\n",
       "      <th>0</th>\n",
       "      <td>ObjectId(56d7e91b6b60c09814f93e4a)</td>\n",
       "      <td>British band</td>\n",
       "      <td>{\"id\":\"\",\"name\":\"\",\"disambiguation\":\"\"}</td>\n",
       "      <td>NaN</td>\n",
       "      <td>NaN</td>\n",
       "      <td>NaN</td>\n",
       "      <td>NaN</td>\n",
       "      <td>[]</td>\n",
       "      <td>55c6eb6e-8388-497c-acaf-dbff584d0c3a</td>\n",
       "      <td>[]</td>\n",
       "      <td>...</td>\n",
       "      <td>NaN</td>\n",
       "      <td>NaN</td>\n",
       "      <td>NaN</td>\n",
       "      <td>NaN</td>\n",
       "      <td>NaN</td>\n",
       "      <td>NaN</td>\n",
       "      <td>NaN</td>\n",
       "      <td>NaN</td>\n",
       "      <td>NaN</td>\n",
       "      <td>NaN</td>\n",
       "    </tr>\n",
       "    <tr>\n",
       "      <th>1</th>\n",
       "      <td>ObjectId(56d7e91c6b60c09814f93e4c)</td>\n",
       "      <td>Japanese Band</td>\n",
       "      <td>{\"id\":\"\",\"name\":\"\",\"disambiguation\":\"\"}</td>\n",
       "      <td>NaN</td>\n",
       "      <td>NaN</td>\n",
       "      <td>NaN</td>\n",
       "      <td>NaN</td>\n",
       "      <td>[\"J-Rock\",\"Visual Kei\"]</td>\n",
       "      <td>51257cf7-1672-4580-ae5c-93eefe3684fb</td>\n",
       "      <td>[]</td>\n",
       "      <td>...</td>\n",
       "      <td>NaN</td>\n",
       "      <td>NaN</td>\n",
       "      <td>NaN</td>\n",
       "      <td>NaN</td>\n",
       "      <td>NaN</td>\n",
       "      <td>NaN</td>\n",
       "      <td>NaN</td>\n",
       "      <td>NaN</td>\n",
       "      <td>NaN</td>\n",
       "      <td>NaN</td>\n",
       "    </tr>\n",
       "    <tr>\n",
       "      <th>2</th>\n",
       "      <td>ObjectId(56d7e91d6b60c09814f93e4e)</td>\n",
       "      <td>NaN</td>\n",
       "      <td>{\"id\":\"\",\"name\":\"\",\"disambiguation\":\"\"}</td>\n",
       "      <td>NaN</td>\n",
       "      <td>NaN</td>\n",
       "      <td>NaN</td>\n",
       "      <td>NaN</td>\n",
       "      <td>[]</td>\n",
       "      <td>8cb0ebc9-db95-4748-81df-8e1e24e70541</td>\n",
       "      <td>[]</td>\n",
       "      <td>...</td>\n",
       "      <td>NaN</td>\n",
       "      <td>NaN</td>\n",
       "      <td>NaN</td>\n",
       "      <td>NaN</td>\n",
       "      <td>NaN</td>\n",
       "      <td>NaN</td>\n",
       "      <td>NaN</td>\n",
       "      <td>NaN</td>\n",
       "      <td>NaN</td>\n",
       "      <td>NaN</td>\n",
       "    </tr>\n",
       "    <tr>\n",
       "      <th>3</th>\n",
       "      <td>ObjectId(56d7e91e6b60c09814f93e50)</td>\n",
       "      <td>NaN</td>\n",
       "      <td>{\"id\":\"\",\"name\":\"\",\"disambiguation\":\"\"}</td>\n",
       "      <td>NaN</td>\n",
       "      <td>NaN</td>\n",
       "      <td>NaN</td>\n",
       "      <td>NaN</td>\n",
       "      <td>[]</td>\n",
       "      <td>4616c4f1-fe79-40f0-ac8d-2b319528b683</td>\n",
       "      <td>[]</td>\n",
       "      <td>...</td>\n",
       "      <td>NaN</td>\n",
       "      <td>NaN</td>\n",
       "      <td>NaN</td>\n",
       "      <td>NaN</td>\n",
       "      <td>NaN</td>\n",
       "      <td>NaN</td>\n",
       "      <td>NaN</td>\n",
       "      <td>NaN</td>\n",
       "      <td>NaN</td>\n",
       "      <td>NaN</td>\n",
       "    </tr>\n",
       "    <tr>\n",
       "      <th>4</th>\n",
       "      <td>ObjectId(56d7e91e6b60c09814f93e52)</td>\n",
       "      <td>NaN</td>\n",
       "      <td>{\"id\":\"\",\"name\":\"\",\"disambiguation\":\"\"}</td>\n",
       "      <td>NaN</td>\n",
       "      <td>NaN</td>\n",
       "      <td>NaN</td>\n",
       "      <td>NaN</td>\n",
       "      <td>[]</td>\n",
       "      <td>e5fd8fd1-9073-4586-a741-e44164e543db</td>\n",
       "      <td>[]</td>\n",
       "      <td>...</td>\n",
       "      <td>NaN</td>\n",
       "      <td>NaN</td>\n",
       "      <td>NaN</td>\n",
       "      <td>NaN</td>\n",
       "      <td>NaN</td>\n",
       "      <td>NaN</td>\n",
       "      <td>NaN</td>\n",
       "      <td>NaN</td>\n",
       "      <td>NaN</td>\n",
       "      <td>NaN</td>\n",
       "    </tr>\n",
       "  </tbody>\n",
       "</table>\n",
       "<p>5 rows × 109 columns</p>\n",
       "</div>"
      ],
      "text/plain": [
       "                                  _id disambiguation  \\\n",
       "0  ObjectId(56d7e91b6b60c09814f93e4a)   British band   \n",
       "1  ObjectId(56d7e91c6b60c09814f93e4c)  Japanese Band   \n",
       "2  ObjectId(56d7e91d6b60c09814f93e4e)            NaN   \n",
       "3  ObjectId(56d7e91e6b60c09814f93e50)            NaN   \n",
       "4  ObjectId(56d7e91e6b60c09814f93e52)            NaN   \n",
       "\n",
       "                                   endArea endArea.disambiguation endArea.id  \\\n",
       "0  {\"id\":\"\",\"name\":\"\",\"disambiguation\":\"\"}                    NaN        NaN   \n",
       "1  {\"id\":\"\",\"name\":\"\",\"disambiguation\":\"\"}                    NaN        NaN   \n",
       "2  {\"id\":\"\",\"name\":\"\",\"disambiguation\":\"\"}                    NaN        NaN   \n",
       "3  {\"id\":\"\",\"name\":\"\",\"disambiguation\":\"\"}                    NaN        NaN   \n",
       "4  {\"id\":\"\",\"name\":\"\",\"disambiguation\":\"\"}                    NaN        NaN   \n",
       "\n",
       "  endArea.name gender                   genres  \\\n",
       "0          NaN    NaN                       []   \n",
       "1          NaN    NaN  [\"J-Rock\",\"Visual Kei\"]   \n",
       "2          NaN    NaN                       []   \n",
       "3          NaN    NaN                       []   \n",
       "4          NaN    NaN                       []   \n",
       "\n",
       "                  id_artist_musicbrainz labels  ... members.XX.urlYouTube  \\\n",
       "0  55c6eb6e-8388-497c-acaf-dbff584d0c3a     []  ...                   NaN   \n",
       "1  51257cf7-1672-4580-ae5c-93eefe3684fb     []  ...                   NaN   \n",
       "2  8cb0ebc9-db95-4748-81df-8e1e24e70541     []  ...                   NaN   \n",
       "3  4616c4f1-fe79-40f0-ac8d-2b319528b683     []  ...                   NaN   \n",
       "4  e5fd8fd1-9073-4586-a741-e44164e543db     []  ...                   NaN   \n",
       "\n",
       "  members.XX.urlBBC members.XX.urlSecondHandSongs  urlInstagram  \\\n",
       "0               NaN                           NaN           NaN   \n",
       "1               NaN                           NaN           NaN   \n",
       "2               NaN                           NaN           NaN   \n",
       "3               NaN                           NaN           NaN   \n",
       "4               NaN                           NaN           NaN   \n",
       "\n",
       "  members.XX.urlSoundCloud members.XX.urlInstagram urlGooglePlus  \\\n",
       "0                      NaN                     NaN           NaN   \n",
       "1                      NaN                     NaN           NaN   \n",
       "2                      NaN                     NaN           NaN   \n",
       "3                      NaN                     NaN           NaN   \n",
       "4                      NaN                     NaN           NaN   \n",
       "\n",
       "  members.XX.urlPureVolume members.XX.urlGooglePlus animux_path_ambiguous  \n",
       "0                      NaN                      NaN                   NaN  \n",
       "1                      NaN                      NaN                   NaN  \n",
       "2                      NaN                      NaN                   NaN  \n",
       "3                      NaN                      NaN                   NaN  \n",
       "4                      NaN                      NaN                   NaN  \n",
       "\n",
       "[5 rows x 109 columns]"
      ]
     },
     "execution_count": 3,
     "metadata": {},
     "output_type": "execute_result"
    }
   ],
   "source": [
    "# Visualising the data\n",
    "my_data.head()"
   ]
  },
  {
   "cell_type": "code",
   "execution_count": 4,
   "metadata": {},
   "outputs": [
    {
     "data": {
      "text/plain": [
       "34052"
      ]
     },
     "execution_count": 4,
     "metadata": {},
     "output_type": "execute_result"
    }
   ],
   "source": [
    "my_data['location.country'].isna().sum()"
   ]
  },
  {
   "cell_type": "code",
   "execution_count": 5,
   "metadata": {},
   "outputs": [
    {
     "data": {
      "text/plain": [
       "0"
      ]
     },
     "execution_count": 5,
     "metadata": {},
     "output_type": "execute_result"
    }
   ],
   "source": [
    "my_data['locationInfo'].isna().sum()"
   ]
  },
  {
   "cell_type": "code",
   "execution_count": 6,
   "metadata": {},
   "outputs": [
    {
     "data": {
      "text/html": [
       "<div>\n",
       "<style scoped>\n",
       "    .dataframe tbody tr th:only-of-type {\n",
       "        vertical-align: middle;\n",
       "    }\n",
       "\n",
       "    .dataframe tbody tr th {\n",
       "        vertical-align: top;\n",
       "    }\n",
       "\n",
       "    .dataframe thead th {\n",
       "        text-align: right;\n",
       "    }\n",
       "</style>\n",
       "<table border=\"1\" class=\"dataframe\">\n",
       "  <thead>\n",
       "    <tr style=\"text-align: right;\">\n",
       "      <th></th>\n",
       "      <th>genres</th>\n",
       "      <th>location.country</th>\n",
       "      <th>location.city</th>\n",
       "      <th>disambiguation</th>\n",
       "      <th>name</th>\n",
       "      <th>lifeSpan.ended</th>\n",
       "      <th>lifeSpan.end</th>\n",
       "      <th>locationInfo</th>\n",
       "    </tr>\n",
       "  </thead>\n",
       "  <tbody>\n",
       "    <tr>\n",
       "      <th>0</th>\n",
       "      <td>[]</td>\n",
       "      <td>United Kingdom</td>\n",
       "      <td>Suffolk</td>\n",
       "      <td>British band</td>\n",
       "      <td>A</td>\n",
       "      <td>False</td>\n",
       "      <td>NaN</td>\n",
       "      <td>[\"England\",\"West Yorkshire\",\"Leeds\"]</td>\n",
       "    </tr>\n",
       "    <tr>\n",
       "      <th>1</th>\n",
       "      <td>[\"J-Rock\",\"Visual Kei\"]</td>\n",
       "      <td>Japan</td>\n",
       "      <td>NaN</td>\n",
       "      <td>Japanese Band</td>\n",
       "      <td>A (エース) (ACE)</td>\n",
       "      <td>False</td>\n",
       "      <td>NaN</td>\n",
       "      <td>[\"Japan\"]</td>\n",
       "    </tr>\n",
       "    <tr>\n",
       "      <th>2</th>\n",
       "      <td>[]</td>\n",
       "      <td>Netherlands</td>\n",
       "      <td>NaN</td>\n",
       "      <td>NaN</td>\n",
       "      <td>A Balladeer</td>\n",
       "      <td>False</td>\n",
       "      <td>NaN</td>\n",
       "      <td>[]</td>\n",
       "    </tr>\n",
       "    <tr>\n",
       "      <th>3</th>\n",
       "      <td>[]</td>\n",
       "      <td>NaN</td>\n",
       "      <td>NaN</td>\n",
       "      <td>NaN</td>\n",
       "      <td>A Beautiful Silence</td>\n",
       "      <td>False</td>\n",
       "      <td>NaN</td>\n",
       "      <td>[\"United States\",\"Michigan\",\"Marquette\"]</td>\n",
       "    </tr>\n",
       "    <tr>\n",
       "      <th>4</th>\n",
       "      <td>[]</td>\n",
       "      <td>United States</td>\n",
       "      <td>NaN</td>\n",
       "      <td>NaN</td>\n",
       "      <td>A Band Called Pain</td>\n",
       "      <td>False</td>\n",
       "      <td>NaN</td>\n",
       "      <td>[\"United States\",\"California\",\"Oakland\"]</td>\n",
       "    </tr>\n",
       "  </tbody>\n",
       "</table>\n",
       "</div>"
      ],
      "text/plain": [
       "                    genres location.country location.city disambiguation  \\\n",
       "0                       []   United Kingdom       Suffolk   British band   \n",
       "1  [\"J-Rock\",\"Visual Kei\"]            Japan           NaN  Japanese Band   \n",
       "2                       []      Netherlands           NaN            NaN   \n",
       "3                       []              NaN           NaN            NaN   \n",
       "4                       []    United States           NaN            NaN   \n",
       "\n",
       "                  name  lifeSpan.ended lifeSpan.end  \\\n",
       "0                    A           False          NaN   \n",
       "1        A (エース) (ACE)           False          NaN   \n",
       "2          A Balladeer           False          NaN   \n",
       "3  A Beautiful Silence           False          NaN   \n",
       "4   A Band Called Pain           False          NaN   \n",
       "\n",
       "                               locationInfo  \n",
       "0      [\"England\",\"West Yorkshire\",\"Leeds\"]  \n",
       "1                                 [\"Japan\"]  \n",
       "2                                        []  \n",
       "3  [\"United States\",\"Michigan\",\"Marquette\"]  \n",
       "4  [\"United States\",\"California\",\"Oakland\"]  "
      ]
     },
     "execution_count": 6,
     "metadata": {},
     "output_type": "execute_result"
    }
   ],
   "source": [
    "# Selecting the useful values\n",
    "features = [\"genres\", \"location.country\", \"location.city\", \"disambiguation\", \"name\", \"lifeSpan.ended\", \"lifeSpan.end\", \"locationInfo\"]\n",
    "my_ds = my_data[features]\n",
    "my_ds.head()"
   ]
  },
  {
   "cell_type": "code",
   "execution_count": 7,
   "metadata": {},
   "outputs": [
    {
     "name": "stderr",
     "output_type": "stream",
     "text": [
      "<ipython-input-7-b9e291405187>:10: SettingWithCopyWarning: \n",
      "A value is trying to be set on a copy of a slice from a DataFrame\n",
      "\n",
      "See the caveats in the documentation: https://pandas.pydata.org/pandas-docs/stable/user_guide/indexing.html#returning-a-view-versus-a-copy\n",
      "  my_ds['locationInfo'][index] = string_split[1]\n",
      "/Users/jet/anaconda3/lib/python3.8/site-packages/IPython/core/interactiveshell.py:3343: SettingWithCopyWarning: \n",
      "A value is trying to be set on a copy of a slice from a DataFrame\n",
      "\n",
      "See the caveats in the documentation: https://pandas.pydata.org/pandas-docs/stable/user_guide/indexing.html#returning-a-view-versus-a-copy\n",
      "  exec(code_obj, self.user_global_ns, self.user_ns)\n",
      "<ipython-input-7-b9e291405187>:13: SettingWithCopyWarning: \n",
      "A value is trying to be set on a copy of a slice from a DataFrame\n",
      "\n",
      "See the caveats in the documentation: https://pandas.pydata.org/pandas-docs/stable/user_guide/indexing.html#returning-a-view-versus-a-copy\n",
      "  my_ds['locationInfo'][index] = np.nan\n"
     ]
    },
    {
     "name": "stdout",
     "output_type": "stream",
     "text": [
      "The NaN value count is: {} 29898\n",
      "The value count is: {} 47594\n"
     ]
    }
   ],
   "source": [
    "# Taking the artist country from the locationInfo attribute.\n",
    "count_na = 0\n",
    "count = 0\n",
    "\n",
    "for index in my_ds.index:\n",
    "    string_split = my_ds['locationInfo'][index].split('\"')\n",
    "    \n",
    "    if (len(string_split) > 1):\n",
    "        count += 1\n",
    "        my_ds['locationInfo'][index] = string_split[1]\n",
    "    else:\n",
    "        count_na += 1\n",
    "        my_ds['locationInfo'][index] = np.nan\n",
    "        \n",
    "        \n",
    "print('The NaN value count is: {}', count_na)\n",
    "print('The value count is: {}', count)"
   ]
  },
  {
   "cell_type": "code",
   "execution_count": 8,
   "metadata": {},
   "outputs": [
    {
     "data": {
      "text/html": [
       "<div>\n",
       "<style scoped>\n",
       "    .dataframe tbody tr th:only-of-type {\n",
       "        vertical-align: middle;\n",
       "    }\n",
       "\n",
       "    .dataframe tbody tr th {\n",
       "        vertical-align: top;\n",
       "    }\n",
       "\n",
       "    .dataframe thead th {\n",
       "        text-align: right;\n",
       "    }\n",
       "</style>\n",
       "<table border=\"1\" class=\"dataframe\">\n",
       "  <thead>\n",
       "    <tr style=\"text-align: right;\">\n",
       "      <th></th>\n",
       "      <th>genres</th>\n",
       "      <th>location.country</th>\n",
       "      <th>location.city</th>\n",
       "      <th>disambiguation</th>\n",
       "      <th>name</th>\n",
       "      <th>lifeSpan.ended</th>\n",
       "      <th>lifeSpan.end</th>\n",
       "      <th>locationInfo</th>\n",
       "    </tr>\n",
       "  </thead>\n",
       "  <tbody>\n",
       "    <tr>\n",
       "      <th>77487</th>\n",
       "      <td>[\"Folk\"]</td>\n",
       "      <td>NaN</td>\n",
       "      <td>NaN</td>\n",
       "      <td>soulseek electro/breakcore artist</td>\n",
       "      <td>Zara</td>\n",
       "      <td>False</td>\n",
       "      <td>NaN</td>\n",
       "      <td>Turkey</td>\n",
       "    </tr>\n",
       "    <tr>\n",
       "      <th>77488</th>\n",
       "      <td>[]</td>\n",
       "      <td>United States</td>\n",
       "      <td>NaN</td>\n",
       "      <td>New Orleans hard rock band</td>\n",
       "      <td>Zebra</td>\n",
       "      <td>False</td>\n",
       "      <td>NaN</td>\n",
       "      <td>United States</td>\n",
       "    </tr>\n",
       "    <tr>\n",
       "      <th>77489</th>\n",
       "      <td>[]</td>\n",
       "      <td>NaN</td>\n",
       "      <td>NaN</td>\n",
       "      <td>NaN</td>\n",
       "      <td>Zebra &amp; Giraffe</td>\n",
       "      <td>False</td>\n",
       "      <td>NaN</td>\n",
       "      <td>South Africa</td>\n",
       "    </tr>\n",
       "    <tr>\n",
       "      <th>77490</th>\n",
       "      <td>[]</td>\n",
       "      <td>NaN</td>\n",
       "      <td>NaN</td>\n",
       "      <td>Underground, free, Rap</td>\n",
       "      <td>Zearle</td>\n",
       "      <td>False</td>\n",
       "      <td>NaN</td>\n",
       "      <td>United States</td>\n",
       "    </tr>\n",
       "    <tr>\n",
       "      <th>77491</th>\n",
       "      <td>[]</td>\n",
       "      <td>NaN</td>\n",
       "      <td>NaN</td>\n",
       "      <td>NaN</td>\n",
       "      <td>Zecchino DOro</td>\n",
       "      <td>False</td>\n",
       "      <td>NaN</td>\n",
       "      <td>NaN</td>\n",
       "    </tr>\n",
       "  </tbody>\n",
       "</table>\n",
       "</div>"
      ],
      "text/plain": [
       "         genres location.country location.city  \\\n",
       "77487  [\"Folk\"]              NaN           NaN   \n",
       "77488        []    United States           NaN   \n",
       "77489        []              NaN           NaN   \n",
       "77490        []              NaN           NaN   \n",
       "77491        []              NaN           NaN   \n",
       "\n",
       "                          disambiguation             name  lifeSpan.ended  \\\n",
       "77487  soulseek electro/breakcore artist             Zara           False   \n",
       "77488         New Orleans hard rock band            Zebra           False   \n",
       "77489                                NaN  Zebra & Giraffe           False   \n",
       "77490             Underground, free, Rap           Zearle           False   \n",
       "77491                                NaN    Zecchino DOro           False   \n",
       "\n",
       "      lifeSpan.end   locationInfo  \n",
       "77487          NaN         Turkey  \n",
       "77488          NaN  United States  \n",
       "77489          NaN   South Africa  \n",
       "77490          NaN  United States  \n",
       "77491          NaN            NaN  "
      ]
     },
     "execution_count": 8,
     "metadata": {},
     "output_type": "execute_result"
    }
   ],
   "source": [
    "my_ds.tail()"
   ]
  },
  {
   "cell_type": "code",
   "execution_count": 9,
   "metadata": {},
   "outputs": [
    {
     "data": {
      "text/plain": [
       "genres                  0\n",
       "location.country    34052\n",
       "location.city       58655\n",
       "disambiguation      65759\n",
       "name                    0\n",
       "lifeSpan.ended          0\n",
       "lifeSpan.end        69023\n",
       "locationInfo        29898\n",
       "dtype: int64"
      ]
     },
     "execution_count": 9,
     "metadata": {},
     "output_type": "execute_result"
    }
   ],
   "source": [
    "# Counting the na value in the selected features\n",
    "my_ds.isnull().sum()"
   ]
  },
  {
   "cell_type": "code",
   "execution_count": 10,
   "metadata": {},
   "outputs": [
    {
     "data": {
      "text/plain": [
       "locationInfo\n",
       "Albania       37\n",
       "Algeria        8\n",
       "Andorra        2\n",
       "Angola         6\n",
       "Argentina    442\n",
       "            ... \n",
       "Venezuela     74\n",
       "Vietnam       42\n",
       "Wales        123\n",
       "Zambia         3\n",
       "Zimbabwe       3\n",
       "Length: 175, dtype: int64"
      ]
     },
     "execution_count": 10,
     "metadata": {},
     "output_type": "execute_result"
    }
   ],
   "source": [
    "country_list = my_ds.groupby('locationInfo').size()\n",
    "country_list"
   ]
  },
  {
   "cell_type": "code",
   "execution_count": 11,
   "metadata": {
    "scrolled": true
   },
   "outputs": [
    {
     "data": {
      "text/plain": [
       "array(['England', 'Japan', nan, 'United States', 'Belgium', 'Australia',\n",
       "       'Sweden', 'The Netherlands', 'Brazil', 'Bolivia', 'Switzerland',\n",
       "       'Germany', 'Denmark', 'Italy', 'Thailand', 'Ireland', 'Austria',\n",
       "       'Canada', 'Spain', 'South Korea', 'France', 'Poland', 'Norway',\n",
       "       'Portugal', 'Argentina', 'Venezuela', 'Finland', 'Turkey',\n",
       "       'Mexico', 'Czech Republic', 'Montenegro', 'India', 'Malaysia',\n",
       "       'Pakistan', 'New Zealand', 'Estonia', 'Greece', 'Hungary',\n",
       "       'Russia', 'Chile', 'Lithuania', 'Indonesia', 'Colombia',\n",
       "       'Northern Ireland', 'Taiwan', 'Israel', 'Scotland', 'Jamaica',\n",
       "       'Mozambique', 'Moldova', 'Slovakia', 'Serbia', 'United Kingdom',\n",
       "       'Philippines', 'Peru', 'The Bahamas', 'Rwanda', 'Syria',\n",
       "       'South Africa', 'Sierra Leone', 'Malta', 'Multinational',\n",
       "       'Costa Rica', 'Belarus', 'Latvia', 'Romania', 'Iran', 'Singapore',\n",
       "       'Wales', 'Ecuador', 'Bulgaria', 'Puerto Rico', 'Croatia',\n",
       "       'Slovenia', 'Iraq', 'Ukraine', 'Dominican Republic', 'Guadeloupe',\n",
       "       'Morocco', 'Democratic Republic of the Congo', 'Uruguay',\n",
       "       'Bosnia and Herzegovina', 'Iceland', 'Egypt', 'China', 'Cuba',\n",
       "       'Mali', 'Panama', 'Vietnam', 'Haiti', \"Côte d'Ivoire\", 'Guatemala',\n",
       "       'Nicaragua', 'Vatican City', 'Lebanon', 'Tunisia', 'Cameroon',\n",
       "       'Belize', 'Albania', 'Georgia', 'Benin', 'Andorra', 'Angola',\n",
       "       'Jordan', 'Azerbaijan', 'Montserrat', 'Bangladesh', 'Luxembourg',\n",
       "       'Paraguay', 'Nepal', 'Macedonia', 'Nigeria', 'Honduras', 'Senegal',\n",
       "       'Isle of Man', 'Armenia', 'Réunion', 'Sri Lanka', 'Hong Kong',\n",
       "       'Trinidad and Tobago', 'Tanzania', 'Gibraltar',\n",
       "       'Republic of the Congo', 'Kazakhstan', 'Cape Verde', 'Suriname',\n",
       "       'Barbados', 'Faroe Islands', 'Algeria', 'Namibia', 'Greenland',\n",
       "       'Netherlands Antilles', 'United_States', 'Fiji', 'Uganda',\n",
       "       'United States Virgin Islands', 'Bahrain', 'Cyprus', 'Zambia',\n",
       "       'Guyana', 'Saint Lucia', 'Ghana', 'Liechtenstein', 'Madagascar',\n",
       "       'Republic of Kosovo', 'Czech Republic\\u200e', 'Libya', 'Monaco',\n",
       "       'Jersey', 'Bermuda', 'French Guiana', 'Uzbekistan', 'Zimbabwe',\n",
       "       'British Virgin Islands', 'Kyrgyzstan', 'Grenada', 'Martinique',\n",
       "       'Ethiopia', 'Mauritius', 'Saint Vincent and the Grenadines',\n",
       "       'Burundi', 'Oman', 'Multinational\\u200e', 'Malawi', 'El Salvador',\n",
       "       'United  States', 'The Gambia', 'Guinea', 'United Arab Emirates',\n",
       "       'Saudi Arabia', 'Kenya', 'Dominica', 'The Netherlands\\u200e',\n",
       "       'Mongolia', 'San Marino', 'Liberia'], dtype=object)"
      ]
     },
     "execution_count": 11,
     "metadata": {},
     "output_type": "execute_result"
    }
   ],
   "source": [
    "my_ds['locationInfo'].unique()"
   ]
  },
  {
   "cell_type": "code",
   "execution_count": 12,
   "metadata": {},
   "outputs": [],
   "source": [
    "temp_data = my_ds.groupby(['locationInfo'])"
   ]
  },
  {
   "cell_type": "code",
   "execution_count": 13,
   "metadata": {
    "scrolled": false
   },
   "outputs": [
    {
     "data": {
      "text/plain": [
       "array(['England', 'Japan', nan, 'United States', 'Belgium', 'Australia',\n",
       "       'Sweden', 'The Netherlands', 'Brazil', 'Bolivia', 'Switzerland',\n",
       "       'Germany', 'Denmark', 'Italy', 'Thailand', 'Ireland', 'Austria',\n",
       "       'Canada', 'Spain', 'South Korea', 'France', 'Poland', 'Norway',\n",
       "       'Portugal', 'Argentina', 'Venezuela', 'Finland', 'Turkey',\n",
       "       'Mexico', 'Czech Republic', 'Montenegro', 'India', 'Malaysia',\n",
       "       'Pakistan', 'New Zealand', 'Estonia', 'Greece', 'Hungary',\n",
       "       'Russia', 'Chile', 'Lithuania', 'Indonesia', 'Colombia',\n",
       "       'Northern Ireland', 'Taiwan', 'Israel', 'Scotland', 'Jamaica',\n",
       "       'Mozambique', 'Moldova', 'Slovakia', 'Serbia', 'United Kingdom',\n",
       "       'Philippines', 'Peru', 'The Bahamas', 'Rwanda', 'Syria',\n",
       "       'South Africa', 'Sierra Leone', 'Malta', 'Multinational',\n",
       "       'Costa Rica', 'Belarus', 'Latvia', 'Romania', 'Iran', 'Singapore',\n",
       "       'Wales', 'Ecuador', 'Bulgaria', 'Puerto Rico', 'Croatia',\n",
       "       'Slovenia', 'Iraq', 'Ukraine', 'Dominican Republic', 'Guadeloupe',\n",
       "       'Morocco', 'Democratic Republic of the Congo', 'Uruguay',\n",
       "       'Bosnia and Herzegovina', 'Iceland', 'Egypt', 'China', 'Cuba',\n",
       "       'Mali', 'Panama', 'Vietnam', 'Haiti', \"Côte d'Ivoire\", 'Guatemala',\n",
       "       'Nicaragua', 'Vatican City', 'Lebanon', 'Tunisia', 'Cameroon',\n",
       "       'Belize', 'Albania', 'Georgia', 'Benin', 'Andorra', 'Angola',\n",
       "       'Jordan', 'Azerbaijan', 'Montserrat', 'Bangladesh', 'Luxembourg',\n",
       "       'Paraguay', 'Nepal', 'Macedonia', 'Nigeria', 'Honduras', 'Senegal',\n",
       "       'Isle of Man', 'Armenia', 'Réunion', 'Sri Lanka', 'Hong Kong',\n",
       "       'Trinidad and Tobago', 'Tanzania', 'Gibraltar',\n",
       "       'Republic of the Congo', 'Kazakhstan', 'Cape Verde', 'Suriname',\n",
       "       'Barbados', 'Faroe Islands', 'Algeria', 'Namibia', 'Greenland',\n",
       "       'Netherlands Antilles', 'United_States', 'Fiji', 'Uganda',\n",
       "       'United States Virgin Islands', 'Bahrain', 'Cyprus', 'Zambia',\n",
       "       'Guyana', 'Saint Lucia', 'Ghana', 'Liechtenstein', 'Madagascar',\n",
       "       'Republic of Kosovo', 'Czech Republic\\u200e', 'Libya', 'Monaco',\n",
       "       'Jersey', 'Bermuda', 'French Guiana', 'Uzbekistan', 'Zimbabwe',\n",
       "       'British Virgin Islands', 'Kyrgyzstan', 'Grenada', 'Martinique',\n",
       "       'Ethiopia', 'Mauritius', 'Saint Vincent and the Grenadines',\n",
       "       'Burundi', 'Oman', 'Multinational\\u200e', 'Malawi', 'El Salvador',\n",
       "       'United  States', 'The Gambia', 'Guinea', 'United Arab Emirates',\n",
       "       'Saudi Arabia', 'Kenya', 'Dominica', 'The Netherlands\\u200e',\n",
       "       'Mongolia', 'San Marino', 'Liberia'], dtype=object)"
      ]
     },
     "execution_count": 13,
     "metadata": {},
     "output_type": "execute_result"
    }
   ],
   "source": [
    "unique_country = my_ds['locationInfo'].unique()\n",
    "unique_country"
   ]
  },
  {
   "cell_type": "code",
   "execution_count": 14,
   "metadata": {
    "scrolled": true
   },
   "outputs": [
    {
     "data": {
      "text/plain": [
       "(77492, 8)"
      ]
     },
     "execution_count": 14,
     "metadata": {},
     "output_type": "execute_result"
    }
   ],
   "source": [
    "my_ds.shape"
   ]
  },
  {
   "cell_type": "code",
   "execution_count": 15,
   "metadata": {
    "scrolled": true
   },
   "outputs": [
    {
     "name": "stdout",
     "output_type": "stream",
     "text": [
      "Country is: England and artist count is: 4162\n",
      "Country is: Japan and artist count is: 710\n",
      "Country is: nan and artist count is: 0\n",
      "Country is: United States and artist count is: 19495\n",
      "Country is: Belgium and artist count is: 373\n",
      "Country is: Australia and artist count is: 1097\n",
      "Country is: Sweden and artist count is: 1519\n",
      "Country is: The Netherlands and artist count is: 865\n",
      "Country is: Brazil and artist count is: 884\n",
      "Country is: Bolivia and artist count is: 16\n",
      "Country is: Switzerland and artist count is: 209\n",
      "Country is: Germany and artist count is: 3022\n",
      "Country is: Denmark and artist count is: 364\n",
      "Country is: Italy and artist count is: 1482\n",
      "Country is: Thailand and artist count is: 11\n",
      "Country is: Ireland and artist count is: 284\n",
      "Country is: Austria and artist count is: 290\n",
      "Country is: Canada and artist count is: 1937\n",
      "Country is: Spain and artist count is: 841\n",
      "Country is: South Korea and artist count is: 114\n",
      "Country is: France and artist count is: 1308\n",
      "Country is: Poland and artist count is: 559\n",
      "Country is: Norway and artist count is: 537\n",
      "Country is: Portugal and artist count is: 233\n",
      "Country is: Argentina and artist count is: 442\n",
      "Country is: Venezuela and artist count is: 74\n",
      "Country is: Finland and artist count is: 870\n",
      "Country is: Turkey and artist count is: 297\n",
      "Country is: Mexico and artist count is: 611\n",
      "Country is: Czech Republic and artist count is: 154\n",
      "Country is: Montenegro and artist count is: 7\n",
      "Country is: India and artist count is: 192\n",
      "Country is: Malaysia and artist count is: 56\n",
      "Country is: Pakistan and artist count is: 29\n",
      "Country is: New Zealand and artist count is: 197\n",
      "Country is: Estonia and artist count is: 65\n",
      "Country is: Greece and artist count is: 123\n",
      "Country is: Hungary and artist count is: 140\n",
      "Country is: Russia and artist count is: 301\n",
      "Country is: Chile and artist count is: 173\n",
      "Country is: Lithuania and artist count is: 89\n",
      "Country is: Indonesia and artist count is: 105\n",
      "Country is: Colombia and artist count is: 118\n",
      "Country is: Northern Ireland and artist count is: 75\n",
      "Country is: Taiwan and artist count is: 15\n",
      "Country is: Israel and artist count is: 104\n",
      "Country is: Scotland and artist count is: 354\n",
      "Country is: Jamaica and artist count is: 189\n",
      "Country is: Mozambique and artist count is: 2\n",
      "Country is: Moldova and artist count is: 19\n",
      "Country is: Slovakia and artist count is: 62\n",
      "Country is: Serbia and artist count is: 103\n",
      "Country is: United Kingdom and artist count is: 165\n",
      "Country is: Philippines and artist count is: 160\n",
      "Country is: Peru and artist count is: 53\n",
      "Country is: The Bahamas and artist count is: 6\n",
      "Country is: Rwanda and artist count is: 1\n",
      "Country is: Syria and artist count is: 6\n",
      "Country is: South Africa and artist count is: 146\n",
      "Country is: Sierra Leone and artist count is: 2\n",
      "Country is: Malta and artist count is: 25\n",
      "Country is: Multinational and artist count is: 183\n",
      "Country is: Costa Rica and artist count is: 21\n",
      "Country is: Belarus and artist count is: 28\n",
      "Country is: Latvia and artist count is: 36\n",
      "Country is: Romania and artist count is: 119\n",
      "Country is: Iran and artist count is: 32\n",
      "Country is: Singapore and artist count is: 33\n",
      "Country is: Wales and artist count is: 123\n",
      "Country is: Ecuador and artist count is: 17\n",
      "Country is: Bulgaria and artist count is: 23\n",
      "Country is: Puerto Rico and artist count is: 155\n",
      "Country is: Croatia and artist count is: 76\n",
      "Country is: Slovenia and artist count is: 33\n",
      "Country is: Iraq and artist count is: 4\n",
      "Country is: Ukraine and artist count is: 66\n",
      "Country is: Dominican Republic and artist count is: 46\n",
      "Country is: Guadeloupe and artist count is: 7\n",
      "Country is: Morocco and artist count is: 13\n",
      "Country is: Democratic Republic of the Congo and artist count is: 7\n",
      "Country is: Uruguay and artist count is: 54\n",
      "Country is: Bosnia and Herzegovina and artist count is: 33\n",
      "Country is: Iceland and artist count is: 84\n",
      "Country is: Egypt and artist count is: 19\n",
      "Country is: China and artist count is: 11\n",
      "Country is: Cuba and artist count is: 61\n",
      "Country is: Mali and artist count is: 8\n",
      "Country is: Panama and artist count is: 27\n",
      "Country is: Vietnam and artist count is: 42\n",
      "Country is: Haiti and artist count is: 3\n",
      "Country is: Côte d'Ivoire and artist count is: 4\n",
      "Country is: Guatemala and artist count is: 9\n",
      "Country is: Nicaragua and artist count is: 5\n",
      "Country is: Vatican City and artist count is: 2\n",
      "Country is: Lebanon and artist count is: 16\n",
      "Country is: Tunisia and artist count is: 7\n",
      "Country is: Cameroon and artist count is: 7\n",
      "Country is: Belize and artist count is: 2\n",
      "Country is: Albania and artist count is: 37\n",
      "Country is: Georgia and artist count is: 7\n",
      "Country is: Benin and artist count is: 1\n",
      "Country is: Andorra and artist count is: 2\n",
      "Country is: Angola and artist count is: 6\n",
      "Country is: Jordan and artist count is: 4\n",
      "Country is: Azerbaijan and artist count is: 8\n",
      "Country is: Montserrat and artist count is: 1\n",
      "Country is: Bangladesh and artist count is: 6\n",
      "Country is: Luxembourg and artist count is: 13\n",
      "Country is: Paraguay and artist count is: 7\n",
      "Country is: Nepal and artist count is: 3\n",
      "Country is: Macedonia and artist count is: 8\n",
      "Country is: Nigeria and artist count is: 17\n",
      "Country is: Honduras and artist count is: 4\n",
      "Country is: Senegal and artist count is: 8\n",
      "Country is: Isle of Man and artist count is: 6\n",
      "Country is: Armenia and artist count is: 6\n",
      "Country is: Réunion and artist count is: 3\n",
      "Country is: Sri Lanka and artist count is: 1\n",
      "Country is: Hong Kong and artist count is: 12\n",
      "Country is: Trinidad and Tobago and artist count is: 18\n",
      "Country is: Tanzania and artist count is: 6\n",
      "Country is: Gibraltar and artist count is: 3\n",
      "Country is: Republic of the Congo and artist count is: 2\n",
      "Country is: Kazakhstan and artist count is: 2\n",
      "Country is: Cape Verde and artist count is: 4\n",
      "Country is: Suriname and artist count is: 5\n",
      "Country is: Barbados and artist count is: 10\n",
      "Country is: Faroe Islands and artist count is: 12\n",
      "Country is: Algeria and artist count is: 8\n",
      "Country is: Namibia and artist count is: 2\n",
      "Country is: Greenland and artist count is: 2\n",
      "Country is: Netherlands Antilles and artist count is: 3\n",
      "Country is: United_States and artist count is: 2\n",
      "Country is: Fiji and artist count is: 1\n",
      "Country is: Uganda and artist count is: 6\n",
      "Country is: United States Virgin Islands and artist count is: 3\n",
      "Country is: Bahrain and artist count is: 3\n",
      "Country is: Cyprus and artist count is: 7\n",
      "Country is: Zambia and artist count is: 3\n",
      "Country is: Guyana and artist count is: 5\n",
      "Country is: Saint Lucia and artist count is: 2\n",
      "Country is: Ghana and artist count is: 3\n",
      "Country is: Liechtenstein and artist count is: 2\n",
      "Country is: Madagascar and artist count is: 2\n",
      "Country is: Republic of Kosovo and artist count is: 6\n",
      "Country is: Czech Republic‎ and artist count is: 1\n",
      "Country is: Libya and artist count is: 3\n",
      "Country is: Monaco and artist count is: 6\n",
      "Country is: Jersey and artist count is: 2\n",
      "Country is: Bermuda and artist count is: 3\n",
      "Country is: French Guiana and artist count is: 1\n",
      "Country is: Uzbekistan and artist count is: 2\n",
      "Country is: Zimbabwe and artist count is: 3\n",
      "Country is: British Virgin Islands and artist count is: 1\n",
      "Country is: Kyrgyzstan and artist count is: 1\n",
      "Country is: Grenada and artist count is: 2\n",
      "Country is: Martinique and artist count is: 4\n",
      "Country is: Ethiopia and artist count is: 2\n",
      "Country is: Mauritius and artist count is: 1\n",
      "Country is: Saint Vincent and the Grenadines and artist count is: 1\n",
      "Country is: Burundi and artist count is: 1\n",
      "Country is: Oman and artist count is: 1\n",
      "Country is: Multinational‎ and artist count is: 1\n",
      "Country is: Malawi and artist count is: 1\n",
      "Country is: El Salvador and artist count is: 1\n",
      "Country is: United  States and artist count is: 1\n",
      "Country is: The Gambia and artist count is: 1\n",
      "Country is: Guinea and artist count is: 2\n",
      "Country is: United Arab Emirates and artist count is: 1\n",
      "Country is: Saudi Arabia and artist count is: 2\n",
      "Country is: Kenya and artist count is: 2\n",
      "Country is: Dominica and artist count is: 1\n",
      "Country is: The Netherlands‎ and artist count is: 2\n",
      "Country is: Mongolia and artist count is: 1\n",
      "Country is: San Marino and artist count is: 1\n",
      "Country is: Liberia and artist count is: 2\n"
     ]
    }
   ],
   "source": [
    "features = ['country', 'artist_count']\n",
    "final_df = pd.DataFrame(columns = features)\n",
    "\n",
    "# Counting the number of artist by country and saving in the dataframe.\n",
    "for country in unique_country:\n",
    "    artist_count = len(my_ds[my_ds['locationInfo'] == country])\n",
    "    \n",
    "#     final_df['country'][idx] = country\n",
    "#     final_df['artist_count'][idx] = artist_count\n",
    "    \n",
    "#     my_ds['artist_count'][idx] = artist_count\n",
    "    print('Country is: {} and artist count is: {}'.format(country, artist_count))"
   ]
  },
  {
   "cell_type": "code",
   "execution_count": 16,
   "metadata": {
    "scrolled": false
   },
   "outputs": [],
   "source": [
    "# Counting the artists by country\n",
    "my_ds['locationInfo'].value_counts().to_dict()\n",
    "country_ = pd.DataFrame(my_ds['locationInfo'].value_counts().reset_index().values, columns = ['name', 'size'])\n"
   ]
  },
  {
   "cell_type": "code",
   "execution_count": 20,
   "metadata": {},
   "outputs": [
    {
     "name": "stderr",
     "output_type": "stream",
     "text": [
      "<ipython-input-20-0a1f3dd4c52a>:4: SettingWithCopyWarning: \n",
      "A value is trying to be set on a copy of a slice from a DataFrame\n",
      "\n",
      "See the caveats in the documentation: https://pandas.pydata.org/pandas-docs/stable/user_guide/indexing.html#returning-a-view-versus-a-copy\n",
      "  country_['id'][index] = index\n"
     ]
    }
   ],
   "source": [
    "# country_['id'] = 0\n",
    "# adding column index\n",
    "for index in country_.index:\n",
    "    country_['id'][index] = index"
   ]
  },
  {
   "cell_type": "code",
   "execution_count": 21,
   "metadata": {},
   "outputs": [
    {
     "data": {
      "text/html": [
       "<div>\n",
       "<style scoped>\n",
       "    .dataframe tbody tr th:only-of-type {\n",
       "        vertical-align: middle;\n",
       "    }\n",
       "\n",
       "    .dataframe tbody tr th {\n",
       "        vertical-align: top;\n",
       "    }\n",
       "\n",
       "    .dataframe thead th {\n",
       "        text-align: right;\n",
       "    }\n",
       "</style>\n",
       "<table border=\"1\" class=\"dataframe\">\n",
       "  <thead>\n",
       "    <tr style=\"text-align: right;\">\n",
       "      <th></th>\n",
       "      <th>name</th>\n",
       "      <th>size</th>\n",
       "      <th>id</th>\n",
       "    </tr>\n",
       "  </thead>\n",
       "  <tbody>\n",
       "    <tr>\n",
       "      <th>0</th>\n",
       "      <td>United States</td>\n",
       "      <td>19495</td>\n",
       "      <td>0</td>\n",
       "    </tr>\n",
       "    <tr>\n",
       "      <th>1</th>\n",
       "      <td>England</td>\n",
       "      <td>4162</td>\n",
       "      <td>1</td>\n",
       "    </tr>\n",
       "    <tr>\n",
       "      <th>2</th>\n",
       "      <td>Germany</td>\n",
       "      <td>3022</td>\n",
       "      <td>2</td>\n",
       "    </tr>\n",
       "    <tr>\n",
       "      <th>3</th>\n",
       "      <td>Canada</td>\n",
       "      <td>1937</td>\n",
       "      <td>3</td>\n",
       "    </tr>\n",
       "    <tr>\n",
       "      <th>4</th>\n",
       "      <td>Sweden</td>\n",
       "      <td>1519</td>\n",
       "      <td>4</td>\n",
       "    </tr>\n",
       "    <tr>\n",
       "      <th>...</th>\n",
       "      <td>...</td>\n",
       "      <td>...</td>\n",
       "      <td>...</td>\n",
       "    </tr>\n",
       "    <tr>\n",
       "      <th>170</th>\n",
       "      <td>Czech Republic‎</td>\n",
       "      <td>1</td>\n",
       "      <td>170</td>\n",
       "    </tr>\n",
       "    <tr>\n",
       "      <th>171</th>\n",
       "      <td>Oman</td>\n",
       "      <td>1</td>\n",
       "      <td>171</td>\n",
       "    </tr>\n",
       "    <tr>\n",
       "      <th>172</th>\n",
       "      <td>Fiji</td>\n",
       "      <td>1</td>\n",
       "      <td>172</td>\n",
       "    </tr>\n",
       "    <tr>\n",
       "      <th>173</th>\n",
       "      <td>French Guiana</td>\n",
       "      <td>1</td>\n",
       "      <td>173</td>\n",
       "    </tr>\n",
       "    <tr>\n",
       "      <th>174</th>\n",
       "      <td>Kyrgyzstan</td>\n",
       "      <td>1</td>\n",
       "      <td>174</td>\n",
       "    </tr>\n",
       "  </tbody>\n",
       "</table>\n",
       "<p>175 rows × 3 columns</p>\n",
       "</div>"
      ],
      "text/plain": [
       "                name   size   id\n",
       "0      United States  19495    0\n",
       "1            England   4162    1\n",
       "2            Germany   3022    2\n",
       "3             Canada   1937    3\n",
       "4             Sweden   1519    4\n",
       "..               ...    ...  ...\n",
       "170  Czech Republic‎      1  170\n",
       "171             Oman      1  171\n",
       "172             Fiji      1  172\n",
       "173    French Guiana      1  173\n",
       "174       Kyrgyzstan      1  174\n",
       "\n",
       "[175 rows x 3 columns]"
      ]
     },
     "execution_count": 21,
     "metadata": {},
     "output_type": "execute_result"
    }
   ],
   "source": [
    "country_"
   ]
  },
  {
   "cell_type": "code",
   "execution_count": 22,
   "metadata": {},
   "outputs": [
    {
     "name": "stdout",
     "output_type": "stream",
     "text": [
      "Requirement already satisfied: pycountry in /Users/jet/anaconda3/lib/python3.8/site-packages (20.7.3)\n",
      "\u001b[33mWARNING: You are using pip version 20.2.4; however, version 20.3.3 is available.\n",
      "You should consider upgrading via the '/Users/jet/anaconda3/bin/python -m pip install --upgrade pip' command.\u001b[0m\n"
     ]
    }
   ],
   "source": [
    "!pip install pycountry\n",
    "import pycountry"
   ]
  },
  {
   "cell_type": "code",
   "execution_count": 23,
   "metadata": {},
   "outputs": [
    {
     "data": {
      "text/plain": [
       "Country(alpha_2='AW', alpha_3='ABW', name='Aruba', numeric='533')"
      ]
     },
     "execution_count": 23,
     "metadata": {},
     "output_type": "execute_result"
    }
   ],
   "source": [
    "# Visioning the list of countries in the package\n",
    "list(pycountry.countries)[0]"
   ]
  },
  {
   "cell_type": "code",
   "execution_count": 26,
   "metadata": {},
   "outputs": [
    {
     "name": "stderr",
     "output_type": "stream",
     "text": [
      "<ipython-input-26-00324349f2df>:4: SettingWithCopyWarning: \n",
      "A value is trying to be set on a copy of a slice from a DataFrame\n",
      "\n",
      "See the caveats in the documentation: https://pandas.pydata.org/pandas-docs/stable/user_guide/indexing.html#returning-a-view-versus-a-copy\n",
      "  country_['value'][index] = country_['size'][index]\n"
     ]
    }
   ],
   "source": [
    "# country_['value'] = 0\n",
    "# Adding the percentage\n",
    "for index in country_.index:\n",
    "    country_['value'][index] = country_['size'][index]"
   ]
  },
  {
   "cell_type": "code",
   "execution_count": 27,
   "metadata": {},
   "outputs": [
    {
     "name": "stderr",
     "output_type": "stream",
     "text": [
      "<ipython-input-27-831a5dfda42a>:4: SettingWithCopyWarning: \n",
      "A value is trying to be set on a copy of a slice from a DataFrame\n",
      "\n",
      "See the caveats in the documentation: https://pandas.pydata.org/pandas-docs/stable/user_guide/indexing.html#returning-a-view-versus-a-copy\n",
      "  country_['id'][idx] = res[0].alpha_3\n",
      "/Users/jet/anaconda3/lib/python3.8/site-packages/pandas/core/indexing.py:671: SettingWithCopyWarning: \n",
      "A value is trying to be set on a copy of a slice from a DataFrame\n",
      "\n",
      "See the caveats in the documentation: https://pandas.pydata.org/pandas-docs/stable/user_guide/indexing.html#returning-a-view-versus-a-copy\n",
      "  self._setitem_with_indexer(indexer, value)\n"
     ]
    },
    {
     "name": "stdout",
     "output_type": "stream",
     "text": [
      "Nothing for Multinational\n",
      "Nothing for South Korea\n",
      "Nothing for Democratic Republic of the Congo\n",
      "Nothing for Republic of Kosovo\n",
      "Nothing for Cape Verde\n",
      "Nothing for Netherlands Antilles\n",
      "Nothing for United States Virgin Islands\n",
      "Nothing for United_States\n",
      "Nothing for The Netherlands‎\n",
      "Nothing for Multinational‎\n",
      "Nothing for United  States\n",
      "Nothing for Czech Republic‎\n"
     ]
    }
   ],
   "source": [
    "for idx in country_.index:\n",
    "    try:\n",
    "        res = pycountry.countries.search_fuzzy(country_['name'][idx])\n",
    "        country_['id'][idx] = res[0].alpha_3\n",
    "    except LookupError:\n",
    "        print('Nothing for {}'.format(country_['name'][idx]))"
   ]
  },
  {
   "cell_type": "code",
   "execution_count": 28,
   "metadata": {},
   "outputs": [],
   "source": [
    "# Correcting mispelled country name\n",
    "country_[country_['name'] == 'United  States'] = 'United States'"
   ]
  },
  {
   "cell_type": "code",
   "execution_count": 29,
   "metadata": {},
   "outputs": [
    {
     "data": {
      "text/plain": [
       "GBR    5\n",
       "FRA    2\n",
       "HUN    1\n",
       "UZB    1\n",
       "URY    1\n",
       "      ..\n",
       "UGA    1\n",
       "VAT    1\n",
       "GUY    1\n",
       "BRB    1\n",
       "HTI    1\n",
       "Name: id, Length: 170, dtype: int64"
      ]
     },
     "execution_count": 29,
     "metadata": {},
     "output_type": "execute_result"
    }
   ],
   "source": [
    "country_['id'].value_counts()"
   ]
  },
  {
   "cell_type": "code",
   "execution_count": 35,
   "metadata": {},
   "outputs": [
    {
     "data": {
      "text/html": [
       "<div>\n",
       "<style scoped>\n",
       "    .dataframe tbody tr th:only-of-type {\n",
       "        vertical-align: middle;\n",
       "    }\n",
       "\n",
       "    .dataframe tbody tr th {\n",
       "        vertical-align: top;\n",
       "    }\n",
       "\n",
       "    .dataframe thead th {\n",
       "        text-align: right;\n",
       "    }\n",
       "</style>\n",
       "<table border=\"1\" class=\"dataframe\">\n",
       "  <thead>\n",
       "    <tr style=\"text-align: right;\">\n",
       "      <th></th>\n",
       "      <th>name</th>\n",
       "      <th>size</th>\n",
       "      <th>id</th>\n",
       "      <th>value</th>\n",
       "      <th>percent</th>\n",
       "    </tr>\n",
       "  </thead>\n",
       "  <tbody>\n",
       "    <tr>\n",
       "      <th>0</th>\n",
       "      <td>United States</td>\n",
       "      <td>19495</td>\n",
       "      <td>USA</td>\n",
       "      <td>19495</td>\n",
       "      <td>0</td>\n",
       "    </tr>\n",
       "    <tr>\n",
       "      <th>1</th>\n",
       "      <td>England</td>\n",
       "      <td>4162</td>\n",
       "      <td>GBR</td>\n",
       "      <td>4162</td>\n",
       "      <td>0</td>\n",
       "    </tr>\n",
       "    <tr>\n",
       "      <th>2</th>\n",
       "      <td>Germany</td>\n",
       "      <td>3022</td>\n",
       "      <td>DEU</td>\n",
       "      <td>3022</td>\n",
       "      <td>0</td>\n",
       "    </tr>\n",
       "    <tr>\n",
       "      <th>3</th>\n",
       "      <td>Canada</td>\n",
       "      <td>1937</td>\n",
       "      <td>CAN</td>\n",
       "      <td>1937</td>\n",
       "      <td>0</td>\n",
       "    </tr>\n",
       "    <tr>\n",
       "      <th>4</th>\n",
       "      <td>Sweden</td>\n",
       "      <td>1519</td>\n",
       "      <td>SWE</td>\n",
       "      <td>1519</td>\n",
       "      <td>0</td>\n",
       "    </tr>\n",
       "    <tr>\n",
       "      <th>...</th>\n",
       "      <td>...</td>\n",
       "      <td>...</td>\n",
       "      <td>...</td>\n",
       "      <td>...</td>\n",
       "      <td>...</td>\n",
       "    </tr>\n",
       "    <tr>\n",
       "      <th>170</th>\n",
       "      <td>Czech Republic‎</td>\n",
       "      <td>1</td>\n",
       "      <td>170</td>\n",
       "      <td>1</td>\n",
       "      <td>0</td>\n",
       "    </tr>\n",
       "    <tr>\n",
       "      <th>171</th>\n",
       "      <td>Oman</td>\n",
       "      <td>1</td>\n",
       "      <td>OMN</td>\n",
       "      <td>1</td>\n",
       "      <td>0</td>\n",
       "    </tr>\n",
       "    <tr>\n",
       "      <th>172</th>\n",
       "      <td>Fiji</td>\n",
       "      <td>1</td>\n",
       "      <td>FJI</td>\n",
       "      <td>1</td>\n",
       "      <td>0</td>\n",
       "    </tr>\n",
       "    <tr>\n",
       "      <th>173</th>\n",
       "      <td>French Guiana</td>\n",
       "      <td>1</td>\n",
       "      <td>GUF</td>\n",
       "      <td>1</td>\n",
       "      <td>0</td>\n",
       "    </tr>\n",
       "    <tr>\n",
       "      <th>174</th>\n",
       "      <td>Kyrgyzstan</td>\n",
       "      <td>1</td>\n",
       "      <td>KGZ</td>\n",
       "      <td>1</td>\n",
       "      <td>0</td>\n",
       "    </tr>\n",
       "  </tbody>\n",
       "</table>\n",
       "<p>175 rows × 5 columns</p>\n",
       "</div>"
      ],
      "text/plain": [
       "                name   size   id  value  percent\n",
       "0      United States  19495  USA  19495        0\n",
       "1            England   4162  GBR   4162        0\n",
       "2            Germany   3022  DEU   3022        0\n",
       "3             Canada   1937  CAN   1937        0\n",
       "4             Sweden   1519  SWE   1519        0\n",
       "..               ...    ...  ...    ...      ...\n",
       "170  Czech Republic‎      1  170      1        0\n",
       "171             Oman      1  OMN      1        0\n",
       "172             Fiji      1  FJI      1        0\n",
       "173    French Guiana      1  GUF      1        0\n",
       "174       Kyrgyzstan      1  KGZ      1        0\n",
       "\n",
       "[175 rows x 5 columns]"
      ]
     },
     "execution_count": 35,
     "metadata": {},
     "output_type": "execute_result"
    }
   ],
   "source": [
    "country_"
   ]
  },
  {
   "cell_type": "code",
   "execution_count": 36,
   "metadata": {},
   "outputs": [
    {
     "ename": "TypeError",
     "evalue": "unsupported operand type(s) for +: 'int' and 'str'",
     "output_type": "error",
     "traceback": [
      "\u001b[0;31m---------------------------------------------------------------------------\u001b[0m",
      "\u001b[0;31mTypeError\u001b[0m                                 Traceback (most recent call last)",
      "\u001b[0;32m<ipython-input-36-e8db0636184e>\u001b[0m in \u001b[0;36m<module>\u001b[0;34m\u001b[0m\n\u001b[1;32m      2\u001b[0m \u001b[0;31m# Adding the percentage - To be removed\u001b[0m\u001b[0;34m\u001b[0m\u001b[0;34m\u001b[0m\u001b[0;34m\u001b[0m\u001b[0m\n\u001b[1;32m      3\u001b[0m \u001b[0;32mfor\u001b[0m \u001b[0mindex\u001b[0m \u001b[0;32min\u001b[0m \u001b[0mcountry_\u001b[0m\u001b[0;34m.\u001b[0m\u001b[0mindex\u001b[0m\u001b[0;34m:\u001b[0m\u001b[0;34m\u001b[0m\u001b[0;34m\u001b[0m\u001b[0m\n\u001b[0;32m----> 4\u001b[0;31m     \u001b[0mcountry_\u001b[0m\u001b[0;34m[\u001b[0m\u001b[0;34m'percent'\u001b[0m\u001b[0;34m]\u001b[0m\u001b[0;34m[\u001b[0m\u001b[0mindex\u001b[0m\u001b[0;34m]\u001b[0m \u001b[0;34m=\u001b[0m \u001b[0mround\u001b[0m\u001b[0;34m(\u001b[0m\u001b[0;34m(\u001b[0m\u001b[0mcountry_\u001b[0m\u001b[0;34m[\u001b[0m\u001b[0;34m'size'\u001b[0m\u001b[0;34m]\u001b[0m\u001b[0;34m[\u001b[0m\u001b[0mindex\u001b[0m\u001b[0;34m]\u001b[0m \u001b[0;34m/\u001b[0m \u001b[0mcountry_\u001b[0m\u001b[0;34m[\u001b[0m\u001b[0;34m'size'\u001b[0m\u001b[0;34m]\u001b[0m\u001b[0;34m.\u001b[0m\u001b[0msum\u001b[0m\u001b[0;34m(\u001b[0m\u001b[0;34m)\u001b[0m\u001b[0;34m)\u001b[0m \u001b[0;34m*\u001b[0m \u001b[0;36m100\u001b[0m\u001b[0;34m,\u001b[0m \u001b[0;36m2\u001b[0m\u001b[0;34m)\u001b[0m\u001b[0;34m\u001b[0m\u001b[0;34m\u001b[0m\u001b[0m\n\u001b[0m",
      "\u001b[0;32m~/anaconda3/lib/python3.8/site-packages/pandas/core/generic.py\u001b[0m in \u001b[0;36mstat_func\u001b[0;34m(self, axis, skipna, level, numeric_only, min_count, **kwargs)\u001b[0m\n\u001b[1;32m  11174\u001b[0m                 \u001b[0mname\u001b[0m\u001b[0;34m,\u001b[0m \u001b[0maxis\u001b[0m\u001b[0;34m=\u001b[0m\u001b[0maxis\u001b[0m\u001b[0;34m,\u001b[0m \u001b[0mlevel\u001b[0m\u001b[0;34m=\u001b[0m\u001b[0mlevel\u001b[0m\u001b[0;34m,\u001b[0m \u001b[0mskipna\u001b[0m\u001b[0;34m=\u001b[0m\u001b[0mskipna\u001b[0m\u001b[0;34m,\u001b[0m \u001b[0mmin_count\u001b[0m\u001b[0;34m=\u001b[0m\u001b[0mmin_count\u001b[0m\u001b[0;34m\u001b[0m\u001b[0;34m\u001b[0m\u001b[0m\n\u001b[1;32m  11175\u001b[0m             )\n\u001b[0;32m> 11176\u001b[0;31m         return self._reduce(\n\u001b[0m\u001b[1;32m  11177\u001b[0m             \u001b[0mf\u001b[0m\u001b[0;34m,\u001b[0m\u001b[0;34m\u001b[0m\u001b[0;34m\u001b[0m\u001b[0m\n\u001b[1;32m  11178\u001b[0m             \u001b[0mname\u001b[0m\u001b[0;34m,\u001b[0m\u001b[0;34m\u001b[0m\u001b[0;34m\u001b[0m\u001b[0m\n",
      "\u001b[0;32m~/anaconda3/lib/python3.8/site-packages/pandas/core/series.py\u001b[0m in \u001b[0;36m_reduce\u001b[0;34m(self, op, name, axis, skipna, numeric_only, filter_type, **kwds)\u001b[0m\n\u001b[1;32m   3889\u001b[0m                 )\n\u001b[1;32m   3890\u001b[0m             \u001b[0;32mwith\u001b[0m \u001b[0mnp\u001b[0m\u001b[0;34m.\u001b[0m\u001b[0merrstate\u001b[0m\u001b[0;34m(\u001b[0m\u001b[0mall\u001b[0m\u001b[0;34m=\u001b[0m\u001b[0;34m\"ignore\"\u001b[0m\u001b[0;34m)\u001b[0m\u001b[0;34m:\u001b[0m\u001b[0;34m\u001b[0m\u001b[0;34m\u001b[0m\u001b[0m\n\u001b[0;32m-> 3891\u001b[0;31m                 \u001b[0;32mreturn\u001b[0m \u001b[0mop\u001b[0m\u001b[0;34m(\u001b[0m\u001b[0mdelegate\u001b[0m\u001b[0;34m,\u001b[0m \u001b[0mskipna\u001b[0m\u001b[0;34m=\u001b[0m\u001b[0mskipna\u001b[0m\u001b[0;34m,\u001b[0m \u001b[0;34m**\u001b[0m\u001b[0mkwds\u001b[0m\u001b[0;34m)\u001b[0m\u001b[0;34m\u001b[0m\u001b[0;34m\u001b[0m\u001b[0m\n\u001b[0m\u001b[1;32m   3892\u001b[0m \u001b[0;34m\u001b[0m\u001b[0m\n\u001b[1;32m   3893\u001b[0m         \u001b[0;31m# TODO(EA) dispatch to Index\u001b[0m\u001b[0;34m\u001b[0m\u001b[0;34m\u001b[0m\u001b[0;34m\u001b[0m\u001b[0m\n",
      "\u001b[0;32m~/anaconda3/lib/python3.8/site-packages/pandas/core/nanops.py\u001b[0m in \u001b[0;36m_f\u001b[0;34m(*args, **kwargs)\u001b[0m\n\u001b[1;32m     67\u001b[0m             \u001b[0;32mtry\u001b[0m\u001b[0;34m:\u001b[0m\u001b[0;34m\u001b[0m\u001b[0;34m\u001b[0m\u001b[0m\n\u001b[1;32m     68\u001b[0m                 \u001b[0;32mwith\u001b[0m \u001b[0mnp\u001b[0m\u001b[0;34m.\u001b[0m\u001b[0merrstate\u001b[0m\u001b[0;34m(\u001b[0m\u001b[0minvalid\u001b[0m\u001b[0;34m=\u001b[0m\u001b[0;34m\"ignore\"\u001b[0m\u001b[0;34m)\u001b[0m\u001b[0;34m:\u001b[0m\u001b[0;34m\u001b[0m\u001b[0;34m\u001b[0m\u001b[0m\n\u001b[0;32m---> 69\u001b[0;31m                     \u001b[0;32mreturn\u001b[0m \u001b[0mf\u001b[0m\u001b[0;34m(\u001b[0m\u001b[0;34m*\u001b[0m\u001b[0margs\u001b[0m\u001b[0;34m,\u001b[0m \u001b[0;34m**\u001b[0m\u001b[0mkwargs\u001b[0m\u001b[0;34m)\u001b[0m\u001b[0;34m\u001b[0m\u001b[0;34m\u001b[0m\u001b[0m\n\u001b[0m\u001b[1;32m     70\u001b[0m             \u001b[0;32mexcept\u001b[0m \u001b[0mValueError\u001b[0m \u001b[0;32mas\u001b[0m \u001b[0me\u001b[0m\u001b[0;34m:\u001b[0m\u001b[0;34m\u001b[0m\u001b[0;34m\u001b[0m\u001b[0m\n\u001b[1;32m     71\u001b[0m                 \u001b[0;31m# we want to transform an object array\u001b[0m\u001b[0;34m\u001b[0m\u001b[0;34m\u001b[0m\u001b[0;34m\u001b[0m\u001b[0m\n",
      "\u001b[0;32m~/anaconda3/lib/python3.8/site-packages/pandas/core/nanops.py\u001b[0m in \u001b[0;36mnansum\u001b[0;34m(values, axis, skipna, min_count, mask)\u001b[0m\n\u001b[1;32m    491\u001b[0m     \u001b[0;32melif\u001b[0m \u001b[0mis_timedelta64_dtype\u001b[0m\u001b[0;34m(\u001b[0m\u001b[0mdtype\u001b[0m\u001b[0;34m)\u001b[0m\u001b[0;34m:\u001b[0m\u001b[0;34m\u001b[0m\u001b[0;34m\u001b[0m\u001b[0m\n\u001b[1;32m    492\u001b[0m         \u001b[0mdtype_sum\u001b[0m \u001b[0;34m=\u001b[0m \u001b[0mnp\u001b[0m\u001b[0;34m.\u001b[0m\u001b[0mfloat64\u001b[0m\u001b[0;34m\u001b[0m\u001b[0;34m\u001b[0m\u001b[0m\n\u001b[0;32m--> 493\u001b[0;31m     \u001b[0mthe_sum\u001b[0m \u001b[0;34m=\u001b[0m \u001b[0mvalues\u001b[0m\u001b[0;34m.\u001b[0m\u001b[0msum\u001b[0m\u001b[0;34m(\u001b[0m\u001b[0maxis\u001b[0m\u001b[0;34m,\u001b[0m \u001b[0mdtype\u001b[0m\u001b[0;34m=\u001b[0m\u001b[0mdtype_sum\u001b[0m\u001b[0;34m)\u001b[0m\u001b[0;34m\u001b[0m\u001b[0;34m\u001b[0m\u001b[0m\n\u001b[0m\u001b[1;32m    494\u001b[0m     \u001b[0mthe_sum\u001b[0m \u001b[0;34m=\u001b[0m \u001b[0m_maybe_null_out\u001b[0m\u001b[0;34m(\u001b[0m\u001b[0mthe_sum\u001b[0m\u001b[0;34m,\u001b[0m \u001b[0maxis\u001b[0m\u001b[0;34m,\u001b[0m \u001b[0mmask\u001b[0m\u001b[0;34m,\u001b[0m \u001b[0mvalues\u001b[0m\u001b[0;34m.\u001b[0m\u001b[0mshape\u001b[0m\u001b[0;34m,\u001b[0m \u001b[0mmin_count\u001b[0m\u001b[0;34m=\u001b[0m\u001b[0mmin_count\u001b[0m\u001b[0;34m)\u001b[0m\u001b[0;34m\u001b[0m\u001b[0;34m\u001b[0m\u001b[0m\n\u001b[1;32m    495\u001b[0m \u001b[0;34m\u001b[0m\u001b[0m\n",
      "\u001b[0;32m~/anaconda3/lib/python3.8/site-packages/numpy/core/_methods.py\u001b[0m in \u001b[0;36m_sum\u001b[0;34m(a, axis, dtype, out, keepdims, initial, where)\u001b[0m\n\u001b[1;32m     36\u001b[0m def _sum(a, axis=None, dtype=None, out=None, keepdims=False,\n\u001b[1;32m     37\u001b[0m          initial=_NoValue, where=True):\n\u001b[0;32m---> 38\u001b[0;31m     \u001b[0;32mreturn\u001b[0m \u001b[0mumr_sum\u001b[0m\u001b[0;34m(\u001b[0m\u001b[0ma\u001b[0m\u001b[0;34m,\u001b[0m \u001b[0maxis\u001b[0m\u001b[0;34m,\u001b[0m \u001b[0mdtype\u001b[0m\u001b[0;34m,\u001b[0m \u001b[0mout\u001b[0m\u001b[0;34m,\u001b[0m \u001b[0mkeepdims\u001b[0m\u001b[0;34m,\u001b[0m \u001b[0minitial\u001b[0m\u001b[0;34m,\u001b[0m \u001b[0mwhere\u001b[0m\u001b[0;34m)\u001b[0m\u001b[0;34m\u001b[0m\u001b[0;34m\u001b[0m\u001b[0m\n\u001b[0m\u001b[1;32m     39\u001b[0m \u001b[0;34m\u001b[0m\u001b[0m\n\u001b[1;32m     40\u001b[0m def _prod(a, axis=None, dtype=None, out=None, keepdims=False,\n",
      "\u001b[0;31mTypeError\u001b[0m: unsupported operand type(s) for +: 'int' and 'str'"
     ]
    }
   ],
   "source": [
    "# country_['percent'] = 0\n",
    "# Adding the percentage - To be removed\n",
    "for index in country_.index:\n",
    "    country_['percent'][index] = round((country_['size'][index] / country_['size'].sum()) * 100, 2)"
   ]
  },
  {
   "cell_type": "code",
   "execution_count": 46,
   "metadata": {},
   "outputs": [
    {
     "ename": "KeyError",
     "evalue": "'USA'",
     "output_type": "error",
     "traceback": [
      "\u001b[0;31m---------------------------------------------------------------------------\u001b[0m",
      "\u001b[0;31mKeyError\u001b[0m                                  Traceback (most recent call last)",
      "\u001b[0;32m<ipython-input-46-fe7bb2d21057>\u001b[0m in \u001b[0;36m<module>\u001b[0;34m\u001b[0m\n\u001b[1;32m      1\u001b[0m \u001b[0;32mfor\u001b[0m \u001b[0midx\u001b[0m \u001b[0;32min\u001b[0m \u001b[0mcountry_\u001b[0m\u001b[0;34m[\u001b[0m\u001b[0;34m'id'\u001b[0m\u001b[0;34m]\u001b[0m\u001b[0;34m.\u001b[0m\u001b[0munique\u001b[0m\u001b[0;34m(\u001b[0m\u001b[0;34m)\u001b[0m\u001b[0;34m:\u001b[0m\u001b[0;34m\u001b[0m\u001b[0;34m\u001b[0m\u001b[0m\n\u001b[0;32m----> 2\u001b[0;31m     \u001b[0mcountry_number\u001b[0m \u001b[0;34m=\u001b[0m \u001b[0mcountry_\u001b[0m\u001b[0;34m[\u001b[0m\u001b[0;34m'id'\u001b[0m\u001b[0;34m]\u001b[0m\u001b[0;34m[\u001b[0m\u001b[0midx\u001b[0m\u001b[0;34m]\u001b[0m\u001b[0;34m\u001b[0m\u001b[0;34m\u001b[0m\u001b[0m\n\u001b[0m\u001b[1;32m      3\u001b[0m \u001b[0;34m\u001b[0m\u001b[0m\n\u001b[1;32m      4\u001b[0m \u001b[0;31m#     if len(country_number) > 1:\u001b[0m\u001b[0;34m\u001b[0m\u001b[0;34m\u001b[0m\u001b[0;34m\u001b[0m\u001b[0m\n\u001b[1;32m      5\u001b[0m \u001b[0;31m#         print(country_['id'])\u001b[0m\u001b[0;34m\u001b[0m\u001b[0;34m\u001b[0m\u001b[0;34m\u001b[0m\u001b[0m\n",
      "\u001b[0;32m~/anaconda3/lib/python3.8/site-packages/pandas/core/series.py\u001b[0m in \u001b[0;36m__getitem__\u001b[0;34m(self, key)\u001b[0m\n\u001b[1;32m    869\u001b[0m         \u001b[0mkey\u001b[0m \u001b[0;34m=\u001b[0m \u001b[0mcom\u001b[0m\u001b[0;34m.\u001b[0m\u001b[0mapply_if_callable\u001b[0m\u001b[0;34m(\u001b[0m\u001b[0mkey\u001b[0m\u001b[0;34m,\u001b[0m \u001b[0mself\u001b[0m\u001b[0;34m)\u001b[0m\u001b[0;34m\u001b[0m\u001b[0;34m\u001b[0m\u001b[0m\n\u001b[1;32m    870\u001b[0m         \u001b[0;32mtry\u001b[0m\u001b[0;34m:\u001b[0m\u001b[0;34m\u001b[0m\u001b[0;34m\u001b[0m\u001b[0m\n\u001b[0;32m--> 871\u001b[0;31m             \u001b[0mresult\u001b[0m \u001b[0;34m=\u001b[0m \u001b[0mself\u001b[0m\u001b[0;34m.\u001b[0m\u001b[0mindex\u001b[0m\u001b[0;34m.\u001b[0m\u001b[0mget_value\u001b[0m\u001b[0;34m(\u001b[0m\u001b[0mself\u001b[0m\u001b[0;34m,\u001b[0m \u001b[0mkey\u001b[0m\u001b[0;34m)\u001b[0m\u001b[0;34m\u001b[0m\u001b[0;34m\u001b[0m\u001b[0m\n\u001b[0m\u001b[1;32m    872\u001b[0m \u001b[0;34m\u001b[0m\u001b[0m\n\u001b[1;32m    873\u001b[0m             \u001b[0;32mif\u001b[0m \u001b[0;32mnot\u001b[0m \u001b[0mis_scalar\u001b[0m\u001b[0;34m(\u001b[0m\u001b[0mresult\u001b[0m\u001b[0;34m)\u001b[0m\u001b[0;34m:\u001b[0m\u001b[0;34m\u001b[0m\u001b[0;34m\u001b[0m\u001b[0m\n",
      "\u001b[0;32m~/anaconda3/lib/python3.8/site-packages/pandas/core/indexes/base.py\u001b[0m in \u001b[0;36mget_value\u001b[0;34m(self, series, key)\u001b[0m\n\u001b[1;32m   4403\u001b[0m         \u001b[0mk\u001b[0m \u001b[0;34m=\u001b[0m \u001b[0mself\u001b[0m\u001b[0;34m.\u001b[0m\u001b[0m_convert_scalar_indexer\u001b[0m\u001b[0;34m(\u001b[0m\u001b[0mk\u001b[0m\u001b[0;34m,\u001b[0m \u001b[0mkind\u001b[0m\u001b[0;34m=\u001b[0m\u001b[0;34m\"getitem\"\u001b[0m\u001b[0;34m)\u001b[0m\u001b[0;34m\u001b[0m\u001b[0;34m\u001b[0m\u001b[0m\n\u001b[1;32m   4404\u001b[0m         \u001b[0;32mtry\u001b[0m\u001b[0;34m:\u001b[0m\u001b[0;34m\u001b[0m\u001b[0;34m\u001b[0m\u001b[0m\n\u001b[0;32m-> 4405\u001b[0;31m             \u001b[0;32mreturn\u001b[0m \u001b[0mself\u001b[0m\u001b[0;34m.\u001b[0m\u001b[0m_engine\u001b[0m\u001b[0;34m.\u001b[0m\u001b[0mget_value\u001b[0m\u001b[0;34m(\u001b[0m\u001b[0ms\u001b[0m\u001b[0;34m,\u001b[0m \u001b[0mk\u001b[0m\u001b[0;34m,\u001b[0m \u001b[0mtz\u001b[0m\u001b[0;34m=\u001b[0m\u001b[0mgetattr\u001b[0m\u001b[0;34m(\u001b[0m\u001b[0mseries\u001b[0m\u001b[0;34m.\u001b[0m\u001b[0mdtype\u001b[0m\u001b[0;34m,\u001b[0m \u001b[0;34m\"tz\"\u001b[0m\u001b[0;34m,\u001b[0m \u001b[0;32mNone\u001b[0m\u001b[0;34m)\u001b[0m\u001b[0;34m)\u001b[0m\u001b[0;34m\u001b[0m\u001b[0;34m\u001b[0m\u001b[0m\n\u001b[0m\u001b[1;32m   4406\u001b[0m         \u001b[0;32mexcept\u001b[0m \u001b[0mKeyError\u001b[0m \u001b[0;32mas\u001b[0m \u001b[0me1\u001b[0m\u001b[0;34m:\u001b[0m\u001b[0;34m\u001b[0m\u001b[0;34m\u001b[0m\u001b[0m\n\u001b[1;32m   4407\u001b[0m             \u001b[0;32mif\u001b[0m \u001b[0mlen\u001b[0m\u001b[0;34m(\u001b[0m\u001b[0mself\u001b[0m\u001b[0;34m)\u001b[0m \u001b[0;34m>\u001b[0m \u001b[0;36m0\u001b[0m \u001b[0;32mand\u001b[0m \u001b[0;34m(\u001b[0m\u001b[0mself\u001b[0m\u001b[0;34m.\u001b[0m\u001b[0mholds_integer\u001b[0m\u001b[0;34m(\u001b[0m\u001b[0;34m)\u001b[0m \u001b[0;32mor\u001b[0m \u001b[0mself\u001b[0m\u001b[0;34m.\u001b[0m\u001b[0mis_boolean\u001b[0m\u001b[0;34m(\u001b[0m\u001b[0;34m)\u001b[0m\u001b[0;34m)\u001b[0m\u001b[0;34m:\u001b[0m\u001b[0;34m\u001b[0m\u001b[0;34m\u001b[0m\u001b[0m\n",
      "\u001b[0;32mpandas/_libs/index.pyx\u001b[0m in \u001b[0;36mpandas._libs.index.IndexEngine.get_value\u001b[0;34m()\u001b[0m\n",
      "\u001b[0;32mpandas/_libs/index.pyx\u001b[0m in \u001b[0;36mpandas._libs.index.IndexEngine.get_value\u001b[0;34m()\u001b[0m\n",
      "\u001b[0;32mpandas/_libs/index.pyx\u001b[0m in \u001b[0;36mpandas._libs.index.IndexEngine.get_loc\u001b[0;34m()\u001b[0m\n",
      "\u001b[0;32mpandas/_libs/index.pyx\u001b[0m in \u001b[0;36mpandas._libs.index.IndexEngine.set_value\u001b[0;34m()\u001b[0m\n",
      "\u001b[0;31mKeyError\u001b[0m: 'USA'"
     ]
    }
   ],
   "source": [
    "for idx in country_['id'].unique():\n",
    "    country_number = country_['id'][idx]\n",
    "    \n",
    "    if len(country_number) > 1:\n",
    "        print(country_['id'])"
   ]
  },
  {
   "cell_type": "code",
   "execution_count": 39,
   "metadata": {},
   "outputs": [
    {
     "data": {
      "text/html": [
       "<div>\n",
       "<style scoped>\n",
       "    .dataframe tbody tr th:only-of-type {\n",
       "        vertical-align: middle;\n",
       "    }\n",
       "\n",
       "    .dataframe tbody tr th {\n",
       "        vertical-align: top;\n",
       "    }\n",
       "\n",
       "    .dataframe thead th {\n",
       "        text-align: right;\n",
       "    }\n",
       "</style>\n",
       "<table border=\"1\" class=\"dataframe\">\n",
       "  <thead>\n",
       "    <tr style=\"text-align: right;\">\n",
       "      <th></th>\n",
       "      <th>name</th>\n",
       "      <th>size</th>\n",
       "      <th>id</th>\n",
       "      <th>value</th>\n",
       "      <th>percent</th>\n",
       "    </tr>\n",
       "  </thead>\n",
       "  <tbody>\n",
       "    <tr>\n",
       "      <th>0</th>\n",
       "      <td>United States</td>\n",
       "      <td>19495</td>\n",
       "      <td>USA</td>\n",
       "      <td>19495</td>\n",
       "      <td>0</td>\n",
       "    </tr>\n",
       "    <tr>\n",
       "      <th>1</th>\n",
       "      <td>England</td>\n",
       "      <td>4162</td>\n",
       "      <td>GBR</td>\n",
       "      <td>4162</td>\n",
       "      <td>0</td>\n",
       "    </tr>\n",
       "    <tr>\n",
       "      <th>2</th>\n",
       "      <td>Germany</td>\n",
       "      <td>3022</td>\n",
       "      <td>DEU</td>\n",
       "      <td>3022</td>\n",
       "      <td>0</td>\n",
       "    </tr>\n",
       "    <tr>\n",
       "      <th>3</th>\n",
       "      <td>Canada</td>\n",
       "      <td>1937</td>\n",
       "      <td>CAN</td>\n",
       "      <td>1937</td>\n",
       "      <td>0</td>\n",
       "    </tr>\n",
       "    <tr>\n",
       "      <th>4</th>\n",
       "      <td>Sweden</td>\n",
       "      <td>1519</td>\n",
       "      <td>SWE</td>\n",
       "      <td>1519</td>\n",
       "      <td>0</td>\n",
       "    </tr>\n",
       "    <tr>\n",
       "      <th>...</th>\n",
       "      <td>...</td>\n",
       "      <td>...</td>\n",
       "      <td>...</td>\n",
       "      <td>...</td>\n",
       "      <td>...</td>\n",
       "    </tr>\n",
       "    <tr>\n",
       "      <th>170</th>\n",
       "      <td>Czech Republic‎</td>\n",
       "      <td>1</td>\n",
       "      <td>170</td>\n",
       "      <td>1</td>\n",
       "      <td>0</td>\n",
       "    </tr>\n",
       "    <tr>\n",
       "      <th>171</th>\n",
       "      <td>Oman</td>\n",
       "      <td>1</td>\n",
       "      <td>OMN</td>\n",
       "      <td>1</td>\n",
       "      <td>0</td>\n",
       "    </tr>\n",
       "    <tr>\n",
       "      <th>172</th>\n",
       "      <td>Fiji</td>\n",
       "      <td>1</td>\n",
       "      <td>FJI</td>\n",
       "      <td>1</td>\n",
       "      <td>0</td>\n",
       "    </tr>\n",
       "    <tr>\n",
       "      <th>173</th>\n",
       "      <td>French Guiana</td>\n",
       "      <td>1</td>\n",
       "      <td>GUF</td>\n",
       "      <td>1</td>\n",
       "      <td>0</td>\n",
       "    </tr>\n",
       "    <tr>\n",
       "      <th>174</th>\n",
       "      <td>Kyrgyzstan</td>\n",
       "      <td>1</td>\n",
       "      <td>KGZ</td>\n",
       "      <td>1</td>\n",
       "      <td>0</td>\n",
       "    </tr>\n",
       "  </tbody>\n",
       "</table>\n",
       "<p>175 rows × 5 columns</p>\n",
       "</div>"
      ],
      "text/plain": [
       "                name   size   id  value  percent\n",
       "0      United States  19495  USA  19495        0\n",
       "1            England   4162  GBR   4162        0\n",
       "2            Germany   3022  DEU   3022        0\n",
       "3             Canada   1937  CAN   1937        0\n",
       "4             Sweden   1519  SWE   1519        0\n",
       "..               ...    ...  ...    ...      ...\n",
       "170  Czech Republic‎      1  170      1        0\n",
       "171             Oman      1  OMN      1        0\n",
       "172             Fiji      1  FJI      1        0\n",
       "173    French Guiana      1  GUF      1        0\n",
       "174       Kyrgyzstan      1  KGZ      1        0\n",
       "\n",
       "[175 rows x 5 columns]"
      ]
     },
     "execution_count": 39,
     "metadata": {},
     "output_type": "execute_result"
    }
   ],
   "source": [
    "country_"
   ]
  },
  {
   "cell_type": "code",
   "execution_count": 40,
   "metadata": {},
   "outputs": [
    {
     "data": {
      "text/plain": [
       "<matplotlib.axes._subplots.AxesSubplot at 0x7f875b3a8790>"
      ]
     },
     "execution_count": 40,
     "metadata": {},
     "output_type": "execute_result"
    },
    {
     "data": {
      "image/png": "[encoded data removed]",
      "text/plain": [
       "<Figure size 432x288 with 1 Axes>"
      ]
     },
     "metadata": {
      "needs_background": "light"
     },
     "output_type": "display_data"
    }
   ],
   "source": [
    "country_[:20].plot(kind='bar')."
   ]
  },
  {
   "cell_type": "code",
   "execution_count": 41,
   "metadata": {},
   "outputs": [],
   "source": [
    "# Saving the json to be used in D3JS\n",
    "country_.to_json('countries_1.json', orient='records')"
   ]
  },
  {
   "cell_type": "code",
   "execution_count": 43,
   "metadata": {},
   "outputs": [],
   "source": [
    "country_.to_csv('country.csv')"
   ]
  },
  {
   "cell_type": "code",
   "execution_count": null,
   "metadata": {},
   "outputs": [],
   "source": [
    "usa_artist = my_ds[my_ds['locationInfo'] == 'United States']"
   ]
  },
  {
   "cell_type": "code",
   "execution_count": null,
   "metadata": {},
   "outputs": [],
   "source": [
    "for idx in my_ds.index:\n",
    "    row = my_ds['genres'][idx]\n",
    "    n_row = row.split('\"')\n",
    "    \n",
    "    if len(n_row) > 1: \n",
    "        my_ds['genres'][idx] = n_row[1]\n",
    "    else:\n",
    "        my_ds['genres'][idx] = np.nan"
   ]
  },
  {
   "cell_type": "code",
   "execution_count": null,
   "metadata": {},
   "outputs": [],
   "source": [
    "my_ds['genres'].unique()"
   ]
  },
  {
   "cell_type": "code",
   "execution_count": null,
   "metadata": {},
   "outputs": [],
   "source": [
    "my_ds['genres'].unique().shape"
   ]
  },
  {
   "cell_type": "code",
   "execution_count": null,
   "metadata": {},
   "outputs": [],
   "source": [
    "temp = my_ds.groupby('locationInfo')['genres'].value_counts().unstack().fillna(0)"
   ]
  },
  {
   "cell_type": "code",
   "execution_count": null,
   "metadata": {},
   "outputs": [],
   "source": [
    "temp.head()"
   ]
  },
  {
   "cell_type": "code",
   "execution_count": null,
   "metadata": {
    "scrolled": true
   },
   "outputs": [],
   "source": [
    "temp.reset_index(inplace = True, drop = False)\n",
    "temp"
   ]
  },
  {
   "cell_type": "code",
   "execution_count": null,
   "metadata": {},
   "outputs": [],
   "source": [
    "# Pie chart, where the slices will be ordered and plotted counter-clockwise:\n",
    "us_pie_data = temp[temp['locationInfo'] == 'France']"
   ]
  },
  {
   "cell_type": "code",
   "execution_count": null,
   "metadata": {},
   "outputs": [],
   "source": [
    "labels = []\n",
    "size = []\n",
    "for x in us_pie_data.columns:\n",
    "    if isinstance(us_pie_data[x].values[0], float):\n",
    "        if us_pie_data[x].values > 5:\n",
    "            labels.append(x)\n",
    "            size.append(us_pie_data[x].values[0])"
   ]
  },
  {
   "cell_type": "code",
   "execution_count": null,
   "metadata": {},
   "outputs": [],
   "source": [
    "labels"
   ]
  },
  {
   "cell_type": "code",
   "execution_count": null,
   "metadata": {},
   "outputs": [],
   "source": [
    "np.mean(size)"
   ]
  },
  {
   "cell_type": "code",
   "execution_count": null,
   "metadata": {},
   "outputs": [],
   "source": [
    "fig1, ax1 = plt.subplots()\n",
    "ax1.pie(size, labels=labels, autopct='%1.1f%%',\n",
    "        shadow=True, startangle=90)\n",
    "ax1.axis('equal')\n",
    "\n",
    "plt.show()"
   ]
  }
 ],
 "metadata": {
  "kernelspec": {
   "display_name": "Python 3",
   "language": "python",
   "name": "python3"
  },
  "language_info": {
   "codemirror_mode": {
    "name": "ipython",
    "version": 3
   },
   "file_extension": ".py",
   "mimetype": "text/x-python",
   "name": "python",
   "nbconvert_exporter": "python",
   "pygments_lexer": "ipython3",
   "version": "3.8.3"
  }
 },
 "nbformat": 4,
 "nbformat_minor": 4
}
